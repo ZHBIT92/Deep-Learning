{
 "cells": [
  {
   "cell_type": "code",
   "execution_count": null,
   "metadata": {
    "collapsed": true
   },
   "outputs": [],
   "source": [
    "from lxml import etree\n",
    "import requests\n",
    "import sys\n",
    "import re\n",
    "import importlib\n",
    "\n",
    "importlib.reload(sys)\n",
    "\n",
    "head = {\n",
    "    'User-Agent': 'Mozilla/5.0 (Windows NT 6.3; WOW64) AppleWebKit/537.36 (KHTML, like Gecko) Chrome/43.0.2357.130 Safari/537.36'\n",
    "}\n",
    "\n",
    "\n",
    "def spider(av):\n",
    "    url = 'http://bilibili.com/video/av' + str(av)\n",
    "    html = requests.get(url, headers=head)\n",
    "    #print(html.text)\n",
    "    selector = etree.HTML(html.text)\n",
    "    content = selector.xpath(\"//html\")\n",
    "    \n",
    "    for each in content:\n",
    "        title = each.xpath('//div[@class=\"v-title\"]/h1/@title')\n",
    "        if title:\n",
    "            cid_html_1 = each.xpath('//div[@class=\"scontent\"]/iframe/@src')\n",
    "            cid_html_2 = each.xpath('//div[@class=\"scontent\"]/script/text()')\n",
    "            \n",
    "            if cid_html_1 or cid_html_2:\n",
    "                if cid_html_1:\n",
    "                    cid_html = cid_html_1[0]\n",
    "                    #print('cid_html_1: '+cid_html_1[0])\n",
    "                else:\n",
    "                    cid_html = cid_html_2[0]\n",
    "                    #print('cid_html_2: '+cid_html_2[0])\t\t#format: EmbedPlayer('player', \"//static.hdslb.com/play.swf\", \"cid=6154070&aid=3830668&pre_ad=0\");\n",
    "\n",
    "                cids = re.findall(r'cid=.+&aid', cid_html)\n",
    "                cid = cids[0].replace(\"cid=\", \"\").replace(\"&aid\", \"\")\n",
    "                comment_url = 'http://comment.bilibili.com/' + str(cid) + '.xml'\n",
    "                #print(comment_url)\t\tformat: http://comment.bilibili.com/6154070.xml\n",
    "                comment_text = requests.get(comment_url, headers=head)\n",
    "                comment_selector = etree.HTML(comment_text.content)\n",
    "                comment_content = comment_selector.xpath('//i')\n",
    "                for comment_each in comment_content:\n",
    "                    comments = comment_each.xpath('//d/text()')\n",
    "                    if comments:\n",
    "                        for comment in comments:\n",
    "                        \tf.writelines(comment + '\\n')\n",
    "                        \tpass\n",
    "            else:\n",
    "                print('error')\n",
    "        else:\n",
    "            print('video not found!')\n",
    "            \n",
    "if __name__ == '__main__':\n",
    "    av = input('input av:')\n",
    "    #av = '3830668'\n",
    "    f = open(av + '.txt', 'w', encoding='utf-8')\n",
    "    spider(av)"
   ]
  },
  {
   "cell_type": "code",
   "execution_count": null,
   "metadata": {
    "collapsed": true
   },
   "outputs": [],
   "source": []
  }
 ],
 "metadata": {
  "kernelspec": {
   "display_name": "Python 3",
   "language": "python",
   "name": "python3"
  },
  "language_info": {
   "codemirror_mode": {
    "name": "ipython",
    "version": 3
   },
   "file_extension": ".py",
   "mimetype": "text/x-python",
   "name": "python",
   "nbconvert_exporter": "python",
   "pygments_lexer": "ipython3",
   "version": "3.6.2"
  }
 },
 "nbformat": 4,
 "nbformat_minor": 2
}
