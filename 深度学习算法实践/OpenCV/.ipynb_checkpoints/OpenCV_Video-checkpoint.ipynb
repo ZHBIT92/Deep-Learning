{
 "cells": [
  {
   "cell_type": "code",
   "execution_count": 2,
   "metadata": {
    "collapsed": true
   },
   "outputs": [],
   "source": [
    "import os\n",
    "import cv2\n",
    "import sys\n",
    "import numpy as np\n",
    "from PIL import Image\n",
    "IMAGE_SIZE = 64"
   ]
  },
  {
   "cell_type": "code",
   "execution_count": null,
   "metadata": {
    "collapsed": true
   },
   "outputs": [],
   "source": [
    "# 按照指定图像大小调整尺寸\n",
    "# 判断图片是不是四边等长，也就是图片是不是正方形。如果不是，则短的那两边增加两条黑色的边框，使图像变成正方形\n",
    "def resize_image(image, height = IMAGE_SIZE, width = IMAGE_SIZE):\n",
    "    top, bottom, left, right = (0, 0, 0, 0)\n",
    "    \n",
    "    #获取图像尺寸\n",
    "    h, w, _ = image.shape\n",
    "    \n",
    "    #对于长宽不相等的图片，找到最长的一边\n",
    "    longest_edge = max(h, w)    \n",
    "    \n",
    "    #计算短边需要增加多上像素宽度使其与长边等长\n",
    "    if h < longest_edge:\n",
    "        dh = longest_edge - h\n",
    "        top = dh // 2\n",
    "        bottom = dh - top\n",
    "    elif w < longest_edge:\n",
    "        dw = longest_edge - w\n",
    "        left = dw // 2\n",
    "        right = dw - left\n",
    "    else:\n",
    "        pass \n",
    "    \n",
    "    #RGB颜色\n",
    "    BLACK = [0, 0, 0]\n",
    "    \n",
    "    #给图像增加边界，是图片长、宽等长，cv2.BORDER_CONSTANT指定边界颜色由value指定\n",
    "    constant = cv2.copyMakeBorder(image, top , bottom, left, right, cv2.BORDER_CONSTANT, value = BLACK)\n",
    "    \n",
    "    #调整图像大小并返回\n",
    "    return cv2.resize(constant, (height, width))"
   ]
  },
  {
   "cell_type": "code",
   "execution_count": null,
   "metadata": {
    "collapsed": true
   },
   "outputs": [],
   "source": [
    "#读取训练数据\n",
    "images = []\n",
    "labels = []\n",
    "def read_path(path_name):    \n",
    "    for dir_item in os.listdir(path_name):\n",
    "        # 从初始路径开始叠加，合并成可识别的操作路径\n",
    "        full_path = os.path.abspath(os.path.join(path_name, dir_item))\n",
    "        \n",
    "        if os.path.isdir(full_path):    #如果是文件夹，继续递归调用\n",
    "            read_path(full_path)\n",
    "        else:   #文件\n",
    "            if dir_item.endswith('.jpg'):\n",
    "                image = cv2.imread(full_path)                \n",
    "                image = resize_image(image, IMAGE_SIZE, IMAGE_SIZE)\n",
    "                \n",
    "                # 放开这个代码，可以看到resize_image()函数的实际调用效果\n",
    "                # cv2.imwrite('1.jpg', image)\n",
    "                \n",
    "                images.append(image)                \n",
    "                labels.append(path_name)                                \n",
    "                    \n",
    "    return images,labels"
   ]
  },
  {
   "cell_type": "code",
   "execution_count": null,
   "metadata": {
    "collapsed": true
   },
   "outputs": [],
   "source": [
    "# 从指定路径读取训练数据\n",
    "def load_dataset(path_name):\n",
    "    images,labels = read_path(path_name)    \n",
    "    \n",
    "    #将输入的所有图片转成四维数组，尺寸为(图片数量*IMAGE_SIZE*IMAGE_SIZE*3)\n",
    "    #我和闺女两个人共1200张图片，IMAGE_SIZE为64，故对我来说尺寸为1200 * 64 * 64 * 3\n",
    "    #图片为64 * 64像素,一个像素3个颜色值(RGB)\n",
    "    images = np.array(images)\n",
    "    print(images.shape)    \n",
    "    \n",
    "    #标注数据，'me'文件夹下都是我的脸部图像，全部指定为0，另外一个文件夹下是闺女的，全部指定为1\n",
    "    labels = np.array([0 if label.endswith('me') else 1 for label in labels])    \n",
    "    \n",
    "    return images, labels"
   ]
  },
  {
   "cell_type": "code",
   "execution_count": null,
   "metadata": {
    "collapsed": true
   },
   "outputs": [],
   "source": [
    "imagesPath = \"新垣结衣\"\n",
    "images, labels = load_dataset(imagesPath)"
   ]
  },
  {
   "cell_type": "code",
   "execution_count": 15,
   "metadata": {
    "collapsed": true
   },
   "outputs": [],
   "source": [
    "def CatchUsbVideo(window_name, camera_idx):\n",
    "    cv2.namedWindow(window_name)\n",
    "    \n",
    "    #视频来源，可以来自一段已存好的视频，也可以直接来自USB摄像头\n",
    "    cap = cv2.VideoCapture(camera_idx)                \n",
    "    \n",
    "    #告诉OpenCV使用人脸识别分类器\n",
    "    classfier = cv2.CascadeClassifier(\"data/haarcascade_frontalface_alt2.xml\")\n",
    "    \n",
    "    #识别出人脸后要画的边框的颜色，RGB格式\n",
    "    color = (0, 255, 0)\n",
    "        \n",
    "    while cap.isOpened():\n",
    "        ok, frame = cap.read() #读取一帧数据\n",
    "        if not ok:            \n",
    "            break  \n",
    "\n",
    "        #将当前帧转换成灰度图像\n",
    "        grey = cv2.cvtColor(frame, cv2.COLOR_BGR2GRAY)                 \n",
    "        \n",
    "        #人脸检测，1.2和2分别为图片缩放比例和需要检测的有效点数\n",
    "        faceRects = classfier.detectMultiScale(grey, scaleFactor = 1.2, minNeighbors = 1, minSize = (64, 64))\n",
    "        \n",
    "        if len(faceRects) > 0:            #大于0则检测到人脸                                   \n",
    "            for faceRect in faceRects:  #单独框出每一张人脸\n",
    "                x, y, w, h = faceRect        \n",
    "                cv2.rectangle(frame, (x - 10, y - 10), (x + w + 10, y + h + 10), color, 2)\n",
    "                        \n",
    "        #显示图像\n",
    "        cv2.imshow(window_name, frame)        \n",
    "        c = cv2.waitKey(10)\n",
    "        if c & 0xFF == ord('q'):\n",
    "            break        \n",
    "    \n",
    "    #释放摄像头并销毁所有窗口\n",
    "    cap.release()\n",
    "    cv2.destroyAllWindows() \n",
    "    \n"
   ]
  },
  {
   "cell_type": "code",
   "execution_count": 16,
   "metadata": {
    "collapsed": true
   },
   "outputs": [],
   "source": [
    "camera = \"新垣结衣.mp4\"\n",
    "CatchUsbVideo(\"识别人脸区域\", camera)"
   ]
  },
  {
   "cell_type": "code",
   "execution_count": null,
   "metadata": {
    "collapsed": true
   },
   "outputs": [],
   "source": []
  }
 ],
 "metadata": {
  "kernelspec": {
   "display_name": "Python 3",
   "language": "python",
   "name": "python3"
  },
  "language_info": {
   "codemirror_mode": {
    "name": "ipython",
    "version": 3
   },
   "file_extension": ".py",
   "mimetype": "text/x-python",
   "name": "python",
   "nbconvert_exporter": "python",
   "pygments_lexer": "ipython3",
   "version": "3.6.2"
  }
 },
 "nbformat": 4,
 "nbformat_minor": 2
}
