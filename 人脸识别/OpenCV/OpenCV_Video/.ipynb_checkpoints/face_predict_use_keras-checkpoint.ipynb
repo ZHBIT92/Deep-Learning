{
 "cells": [
  {
   "cell_type": "code",
   "execution_count": 3,
   "metadata": {},
   "outputs": [],
   "source": [
    "import cv2\n",
    "import sys\n",
    "import gc\n",
    "from face_train_use_keras import Model"
   ]
  },
  {
   "cell_type": "code",
   "execution_count": 6,
   "metadata": {},
   "outputs": [],
   "source": [
    "def CatchUsbVideo(camera_idx, file_path, cascade_path):\n",
    "    # 视频来源\n",
    "    cap = cv2.VideoCapture(camera_idx)  \n",
    "    \n",
    "    # 加载模型\n",
    "    model = Model()\n",
    "    model.load_model(file_path)    \n",
    "      \n",
    "    # 框住人脸的矩形边框颜色       \n",
    "    color = (0, 255, 0)\n",
    "    \n",
    "    # 循环检测识别人脸\n",
    "    while True:\n",
    "        _, frame = cap.read()   # 读取一帧视频\n",
    "        \n",
    "        # 图像灰化，降低计算复杂度\n",
    "        frame_gray = cv2.cvtColor(frame, cv2.COLOR_BGR2GRAY)\n",
    "        \n",
    "        # 使用人脸识别分类器，读入分类器\n",
    "        cascade = cv2.CascadeClassifier(cascade_path)                \n",
    "\n",
    "        #利用分类器识别出哪个区域为人脸\n",
    "        faceRects = cascade.detectMultiScale(frame_gray, scaleFactor = 1.2, minNeighbors = 3, minSize = (32, 32))        \n",
    "        #大于0则检测到人脸     \n",
    "        if len(faceRects) > 0: \n",
    "            for faceRect in faceRects: # 单独框出每一张人脸\n",
    "                x, y, w, h = faceRect\n",
    "                \n",
    "                # 截取脸部图像提交给模型识别这是谁\n",
    "                image = frame[y - 10: y + h + 10, x - 10: x + w + 10]\n",
    "                faceID = model.face_predict(image)   \n",
    "                \n",
    "                #如果是“新坦结衣”\n",
    "                if faceID == 0:                                                        \n",
    "                    cv2.rectangle(frame, (x - 10, y - 10), (x + w + 10, y + h + 10), color, thickness = 2)\n",
    "                    \n",
    "                    #文字提示是谁\n",
    "                    cv2.putText(frame,'新坦结衣', \n",
    "                                (x + 30, y + 30),                      #坐标\n",
    "                                cv2.FONT_HERSHEY_SIMPLEX,              #字体\n",
    "                                1,                                     #字号\n",
    "                                (255,0,255),                           #颜色\n",
    "                                2)                                     #字的线宽\n",
    "                else:\n",
    "                    pass\n",
    "                            \n",
    "        cv2.imshow(\"识别新坦结衣\", frame)\n",
    "        \n",
    "        #等待10毫秒看是否有按键输入\n",
    "        k = cv2.waitKey(10)\n",
    "        #如果输入q则退出循环\n",
    "        if k & 0xFF == ord('q'):\n",
    "            break\n",
    "\n",
    "    #释放摄像头并销毁所有窗口\n",
    "    cap.release()\n",
    "    cv2.destroyAllWindows()"
   ]
  },
  {
   "cell_type": "code",
   "execution_count": 7,
   "metadata": {},
   "outputs": [
    {
     "ename": "NameError",
     "evalue": "name 'load_model' is not defined",
     "output_type": "error",
     "traceback": [
      "\u001b[1;31m---------------------------------------------------------------------------\u001b[0m",
      "\u001b[1;31mNameError\u001b[0m                                 Traceback (most recent call last)",
      "\u001b[1;32m<ipython-input-7-70a4cee36d05>\u001b[0m in \u001b[0;36m<module>\u001b[1;34m()\u001b[0m\n\u001b[0;32m      5\u001b[0m \u001b[0mcamera\u001b[0m \u001b[1;33m=\u001b[0m \u001b[1;34m\"新垣结衣.mp4\"\u001b[0m\u001b[1;33m\u001b[0m\u001b[0m\n\u001b[0;32m      6\u001b[0m \u001b[1;33m\u001b[0m\u001b[0m\n\u001b[1;32m----> 7\u001b[1;33m \u001b[0mCatchUsbVideo\u001b[0m\u001b[1;33m(\u001b[0m\u001b[0mcamera\u001b[0m\u001b[1;33m,\u001b[0m \u001b[0mfile_path\u001b[0m\u001b[1;33m,\u001b[0m \u001b[0mcascade_path\u001b[0m\u001b[1;33m)\u001b[0m\u001b[1;33m\u001b[0m\u001b[0m\n\u001b[0m",
      "\u001b[1;32m<ipython-input-6-55c052123240>\u001b[0m in \u001b[0;36mCatchUsbVideo\u001b[1;34m(camera_idx, file_path, cascade_path)\u001b[0m\n\u001b[0;32m      5\u001b[0m     \u001b[1;31m# 加载模型\u001b[0m\u001b[1;33m\u001b[0m\u001b[1;33m\u001b[0m\u001b[0m\n\u001b[0;32m      6\u001b[0m     \u001b[0mmodel\u001b[0m \u001b[1;33m=\u001b[0m \u001b[0mModel\u001b[0m\u001b[1;33m(\u001b[0m\u001b[1;33m)\u001b[0m\u001b[1;33m\u001b[0m\u001b[0m\n\u001b[1;32m----> 7\u001b[1;33m     \u001b[0mmodel\u001b[0m\u001b[1;33m.\u001b[0m\u001b[0mload_model\u001b[0m\u001b[1;33m(\u001b[0m\u001b[0mfile_path\u001b[0m\u001b[1;33m)\u001b[0m\u001b[1;33m\u001b[0m\u001b[0m\n\u001b[0m\u001b[0;32m      8\u001b[0m \u001b[1;33m\u001b[0m\u001b[0m\n\u001b[0;32m      9\u001b[0m     \u001b[1;31m# 框住人脸的矩形边框颜色\u001b[0m\u001b[1;33m\u001b[0m\u001b[1;33m\u001b[0m\u001b[0m\n",
      "\u001b[1;32m<ipython-input-4-027904eecd53>\u001b[0m in \u001b[0;36mload_model\u001b[1;34m(self, file_path)\u001b[0m\n\u001b[0;32m     90\u001b[0m     \u001b[1;31m# 读取模型\u001b[0m\u001b[1;33m\u001b[0m\u001b[1;33m\u001b[0m\u001b[0m\n\u001b[0;32m     91\u001b[0m     \u001b[1;32mdef\u001b[0m \u001b[0mload_model\u001b[0m\u001b[1;33m(\u001b[0m\u001b[0mself\u001b[0m\u001b[1;33m,\u001b[0m \u001b[0mfile_path\u001b[0m \u001b[1;33m=\u001b[0m \u001b[0mMODEL_PATH\u001b[0m\u001b[1;33m)\u001b[0m\u001b[1;33m:\u001b[0m\u001b[1;33m\u001b[0m\u001b[0m\n\u001b[1;32m---> 92\u001b[1;33m         \u001b[0mself\u001b[0m\u001b[1;33m.\u001b[0m\u001b[0mmodel\u001b[0m \u001b[1;33m=\u001b[0m \u001b[0mload_model\u001b[0m\u001b[1;33m(\u001b[0m\u001b[0mfile_path\u001b[0m\u001b[1;33m)\u001b[0m\u001b[1;33m\u001b[0m\u001b[0m\n\u001b[0m\u001b[0;32m     93\u001b[0m \u001b[1;33m\u001b[0m\u001b[0m\n\u001b[0;32m     94\u001b[0m     \u001b[1;31m# 评估模型\u001b[0m\u001b[1;33m\u001b[0m\u001b[1;33m\u001b[0m\u001b[0m\n",
      "\u001b[1;31mNameError\u001b[0m: name 'load_model' is not defined"
     ]
    }
   ],
   "source": [
    "# 使用训练好的模型的参数\n",
    "file_path = './model/user.face.model.h5'\n",
    "# 人脸识别分类器本地存储路径\n",
    "cascade_path = \"data/haarcascade_frontalface_alt2.xml\"\n",
    "camera = \"新垣结衣.mp4\"\n",
    "\n",
    "CatchUsbVideo(camera, file_path, cascade_path)"
   ]
  },
  {
   "cell_type": "code",
   "execution_count": null,
   "metadata": {
    "collapsed": true
   },
   "outputs": [],
   "source": []
  }
 ],
 "metadata": {
  "kernelspec": {
   "display_name": "Python 3",
   "language": "python",
   "name": "python3"
  },
  "language_info": {
   "codemirror_mode": {
    "name": "ipython",
    "version": 3
   },
   "file_extension": ".py",
   "mimetype": "text/x-python",
   "name": "python",
   "nbconvert_exporter": "python",
   "pygments_lexer": "ipython3",
   "version": "3.6.2"
  }
 },
 "nbformat": 4,
 "nbformat_minor": 2
}
