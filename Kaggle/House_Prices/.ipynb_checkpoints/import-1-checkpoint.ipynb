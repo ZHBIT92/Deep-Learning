{
 "cells": [
  {
   "cell_type": "code",
   "execution_count": 7,
   "metadata": {
    "collapsed": true
   },
   "outputs": [],
   "source": [
    "import numpy as np\n",
    "import pandas as pd\n",
    "import seaborn as sns\n",
    "import matplotlib.pyplot as plt\n",
    "from scipy import stats\n",
    "import sklearn\n",
    "from sklearn.linear_model import LinearRegression "
   ]
  },
  {
   "cell_type": "code",
   "execution_count": 8,
   "metadata": {},
   "outputs": [
    {
     "name": "stdout",
     "output_type": "stream",
     "text": [
      "Train data shape: (1460, 81)\n",
      "Test data shape: (1459, 80)\n"
     ]
    }
   ],
   "source": [
    "traindata = pd.read_csv('data/train.csv')\n",
    "testdata = pd.read_csv('data/test.csv')\n",
    "print (\"Train data shape:\", traindata.shape)\n",
    "print (\"Test data shape:\", testdata.shape)"
   ]
  },
  {
   "cell_type": "code",
   "execution_count": 9,
   "metadata": {},
   "outputs": [
    {
     "data": {
      "text/html": [
       "<div>\n",
       "<style>\n",
       "    .dataframe thead tr:only-child th {\n",
       "        text-align: right;\n",
       "    }\n",
       "\n",
       "    .dataframe thead th {\n",
       "        text-align: left;\n",
       "    }\n",
       "\n",
       "    .dataframe tbody tr th {\n",
       "        vertical-align: top;\n",
       "    }\n",
       "</style>\n",
       "<table border=\"1\" class=\"dataframe\">\n",
       "  <thead>\n",
       "    <tr style=\"text-align: right;\">\n",
       "      <th></th>\n",
       "      <th>Id</th>\n",
       "      <th>MSSubClass</th>\n",
       "      <th>MSZoning</th>\n",
       "      <th>LotFrontage</th>\n",
       "      <th>LotArea</th>\n",
       "      <th>Street</th>\n",
       "      <th>Alley</th>\n",
       "      <th>LotShape</th>\n",
       "      <th>LandContour</th>\n",
       "      <th>Utilities</th>\n",
       "      <th>...</th>\n",
       "      <th>PoolArea</th>\n",
       "      <th>PoolQC</th>\n",
       "      <th>Fence</th>\n",
       "      <th>MiscFeature</th>\n",
       "      <th>MiscVal</th>\n",
       "      <th>MoSold</th>\n",
       "      <th>YrSold</th>\n",
       "      <th>SaleType</th>\n",
       "      <th>SaleCondition</th>\n",
       "      <th>SalePrice</th>\n",
       "    </tr>\n",
       "  </thead>\n",
       "  <tbody>\n",
       "    <tr>\n",
       "      <th>0</th>\n",
       "      <td>1</td>\n",
       "      <td>60</td>\n",
       "      <td>RL</td>\n",
       "      <td>65.0</td>\n",
       "      <td>8450</td>\n",
       "      <td>Pave</td>\n",
       "      <td>NaN</td>\n",
       "      <td>Reg</td>\n",
       "      <td>Lvl</td>\n",
       "      <td>AllPub</td>\n",
       "      <td>...</td>\n",
       "      <td>0</td>\n",
       "      <td>NaN</td>\n",
       "      <td>NaN</td>\n",
       "      <td>NaN</td>\n",
       "      <td>0</td>\n",
       "      <td>2</td>\n",
       "      <td>2008</td>\n",
       "      <td>WD</td>\n",
       "      <td>Normal</td>\n",
       "      <td>208500</td>\n",
       "    </tr>\n",
       "    <tr>\n",
       "      <th>1</th>\n",
       "      <td>2</td>\n",
       "      <td>20</td>\n",
       "      <td>RL</td>\n",
       "      <td>80.0</td>\n",
       "      <td>9600</td>\n",
       "      <td>Pave</td>\n",
       "      <td>NaN</td>\n",
       "      <td>Reg</td>\n",
       "      <td>Lvl</td>\n",
       "      <td>AllPub</td>\n",
       "      <td>...</td>\n",
       "      <td>0</td>\n",
       "      <td>NaN</td>\n",
       "      <td>NaN</td>\n",
       "      <td>NaN</td>\n",
       "      <td>0</td>\n",
       "      <td>5</td>\n",
       "      <td>2007</td>\n",
       "      <td>WD</td>\n",
       "      <td>Normal</td>\n",
       "      <td>181500</td>\n",
       "    </tr>\n",
       "    <tr>\n",
       "      <th>2</th>\n",
       "      <td>3</td>\n",
       "      <td>60</td>\n",
       "      <td>RL</td>\n",
       "      <td>68.0</td>\n",
       "      <td>11250</td>\n",
       "      <td>Pave</td>\n",
       "      <td>NaN</td>\n",
       "      <td>IR1</td>\n",
       "      <td>Lvl</td>\n",
       "      <td>AllPub</td>\n",
       "      <td>...</td>\n",
       "      <td>0</td>\n",
       "      <td>NaN</td>\n",
       "      <td>NaN</td>\n",
       "      <td>NaN</td>\n",
       "      <td>0</td>\n",
       "      <td>9</td>\n",
       "      <td>2008</td>\n",
       "      <td>WD</td>\n",
       "      <td>Normal</td>\n",
       "      <td>223500</td>\n",
       "    </tr>\n",
       "    <tr>\n",
       "      <th>3</th>\n",
       "      <td>4</td>\n",
       "      <td>70</td>\n",
       "      <td>RL</td>\n",
       "      <td>60.0</td>\n",
       "      <td>9550</td>\n",
       "      <td>Pave</td>\n",
       "      <td>NaN</td>\n",
       "      <td>IR1</td>\n",
       "      <td>Lvl</td>\n",
       "      <td>AllPub</td>\n",
       "      <td>...</td>\n",
       "      <td>0</td>\n",
       "      <td>NaN</td>\n",
       "      <td>NaN</td>\n",
       "      <td>NaN</td>\n",
       "      <td>0</td>\n",
       "      <td>2</td>\n",
       "      <td>2006</td>\n",
       "      <td>WD</td>\n",
       "      <td>Abnorml</td>\n",
       "      <td>140000</td>\n",
       "    </tr>\n",
       "  </tbody>\n",
       "</table>\n",
       "<p>4 rows × 81 columns</p>\n",
       "</div>"
      ],
      "text/plain": [
       "   Id  MSSubClass MSZoning  LotFrontage  LotArea Street Alley LotShape  \\\n",
       "0   1          60       RL         65.0     8450   Pave   NaN      Reg   \n",
       "1   2          20       RL         80.0     9600   Pave   NaN      Reg   \n",
       "2   3          60       RL         68.0    11250   Pave   NaN      IR1   \n",
       "3   4          70       RL         60.0     9550   Pave   NaN      IR1   \n",
       "\n",
       "  LandContour Utilities    ...     PoolArea PoolQC Fence MiscFeature MiscVal  \\\n",
       "0         Lvl    AllPub    ...            0    NaN   NaN         NaN       0   \n",
       "1         Lvl    AllPub    ...            0    NaN   NaN         NaN       0   \n",
       "2         Lvl    AllPub    ...            0    NaN   NaN         NaN       0   \n",
       "3         Lvl    AllPub    ...            0    NaN   NaN         NaN       0   \n",
       "\n",
       "  MoSold YrSold  SaleType  SaleCondition  SalePrice  \n",
       "0      2   2008        WD         Normal     208500  \n",
       "1      5   2007        WD         Normal     181500  \n",
       "2      9   2008        WD         Normal     223500  \n",
       "3      2   2006        WD        Abnorml     140000  \n",
       "\n",
       "[4 rows x 81 columns]"
      ]
     },
     "execution_count": 9,
     "metadata": {},
     "output_type": "execute_result"
    }
   ],
   "source": [
    "traindata.head(4)"
   ]
  },
  {
   "cell_type": "markdown",
   "metadata": {},
   "source": [
    "* SalePrice - 以美元为单位的物业销售价格 这是你试图预测的目标变量\n",
    "* MSSubClass - 建筑类\n",
    "* MSZoning - 一般的分区划分\n",
    "* LotFrontage - 街道的线性脚与物业相连\n",
    "* LotArea - 以平方英尺为单位的土地面积\n",
    "* Street - 进入道路的类型\n",
    "* Alley - 胡同入口的类型\n",
    "* LotShape - 属性的一般形状\n",
    "* LandContour - 酒店的平坦度\n",
    "* Utilities - 可用的实用程序类型\n",
    "* LotConfig - 批量配置"
   ]
  },
  {
   "cell_type": "markdown",
   "metadata": {
    "scrolled": false
   },
   "source": [
    "## 处理缺失值"
   ]
  },
  {
   "cell_type": "code",
   "execution_count": 10,
   "metadata": {
    "scrolled": true
   },
   "outputs": [
    {
     "data": {
      "text/html": [
       "<div>\n",
       "<style>\n",
       "    .dataframe thead tr:only-child th {\n",
       "        text-align: right;\n",
       "    }\n",
       "\n",
       "    .dataframe thead th {\n",
       "        text-align: left;\n",
       "    }\n",
       "\n",
       "    .dataframe tbody tr th {\n",
       "        vertical-align: top;\n",
       "    }\n",
       "</style>\n",
       "<table border=\"1\" class=\"dataframe\">\n",
       "  <thead>\n",
       "    <tr style=\"text-align: right;\">\n",
       "      <th></th>\n",
       "      <th>Total</th>\n",
       "      <th>Percent</th>\n",
       "    </tr>\n",
       "  </thead>\n",
       "  <tbody>\n",
       "    <tr>\n",
       "      <th>PoolQC</th>\n",
       "      <td>1453</td>\n",
       "      <td>0.995205</td>\n",
       "    </tr>\n",
       "    <tr>\n",
       "      <th>MiscFeature</th>\n",
       "      <td>1406</td>\n",
       "      <td>0.963014</td>\n",
       "    </tr>\n",
       "    <tr>\n",
       "      <th>Alley</th>\n",
       "      <td>1369</td>\n",
       "      <td>0.937671</td>\n",
       "    </tr>\n",
       "    <tr>\n",
       "      <th>Fence</th>\n",
       "      <td>1179</td>\n",
       "      <td>0.807534</td>\n",
       "    </tr>\n",
       "    <tr>\n",
       "      <th>FireplaceQu</th>\n",
       "      <td>690</td>\n",
       "      <td>0.472603</td>\n",
       "    </tr>\n",
       "    <tr>\n",
       "      <th>LotFrontage</th>\n",
       "      <td>259</td>\n",
       "      <td>0.177397</td>\n",
       "    </tr>\n",
       "    <tr>\n",
       "      <th>GarageCond</th>\n",
       "      <td>81</td>\n",
       "      <td>0.055479</td>\n",
       "    </tr>\n",
       "    <tr>\n",
       "      <th>GarageType</th>\n",
       "      <td>81</td>\n",
       "      <td>0.055479</td>\n",
       "    </tr>\n",
       "  </tbody>\n",
       "</table>\n",
       "</div>"
      ],
      "text/plain": [
       "             Total   Percent\n",
       "PoolQC        1453  0.995205\n",
       "MiscFeature   1406  0.963014\n",
       "Alley         1369  0.937671\n",
       "Fence         1179  0.807534\n",
       "FireplaceQu    690  0.472603\n",
       "LotFrontage    259  0.177397\n",
       "GarageCond      81  0.055479\n",
       "GarageType      81  0.055479"
      ]
     },
     "execution_count": 10,
     "metadata": {},
     "output_type": "execute_result"
    }
   ],
   "source": [
    "# 查看每个column缺失值总数和百分比\n",
    "total = traindata.isnull().sum().sort_values(ascending=False)\n",
    "percent = (traindata.isnull().sum()/traindata.isnull().count()).sort_values(ascending=False)\n",
    "missing_data = pd.concat([total, percent], axis=1, keys=['Total', 'Percent'])\n",
    "missing_data.head(8)"
   ]
  },
  {
   "cell_type": "markdown",
   "metadata": {},
   "source": [
    "* PoolQC: 泳池质量\n",
    "* MiscFeature: 其他各种杂项设施\n",
    "* Alley：胡同，小巷\n",
    "* Fence: 栅栏质量\n",
    "* FireplaceQu: 壁炉质量"
   ]
  },
  {
   "cell_type": "code",
   "execution_count": 11,
   "metadata": {
    "collapsed": true,
    "scrolled": true
   },
   "outputs": [],
   "source": [
    "# 删除缺失值百分比大于0.4的5个columns\n",
    "traindata = traindata.drop(['Alley', 'FireplaceQu', \n",
    "                            'PoolQC', 'Fence', 'MiscFeature'], axis=1)\n",
    "testdata = testdata.drop(['Alley', 'FireplaceQu', \n",
    "                          'PoolQC', 'Fence', 'MiscFeature'], axis=1)"
   ]
  },
  {
   "cell_type": "markdown",
   "metadata": {},
   "source": [
    "## 处理数字特征\n",
    "* select_dtypes()方法将返回匹配指定数据类型的列的子集\n",
    "* DataFrame.corr()方法显示列之间的相关性（或关系）"
   ]
  },
  {
   "cell_type": "code",
   "execution_count": 12,
   "metadata": {
    "collapsed": true
   },
   "outputs": [],
   "source": [
    "# 选出只有整数和浮点数的columns\n",
    "num_trainData = traindata.select_dtypes(include=[np.number])"
   ]
  },
  {
   "cell_type": "markdown",
   "metadata": {},
   "source": [
    "### 用corr()计算出各列与'SalePrice'的相关性"
   ]
  },
  {
   "cell_type": "code",
   "execution_count": 13,
   "metadata": {
    "scrolled": true
   },
   "outputs": [
    {
     "name": "stdout",
     "output_type": "stream",
     "text": [
      "OverallQual     0.790982\n",
      "GrLivArea       0.708624\n",
      "GarageCars      0.640409\n",
      "GarageArea      0.623431\n",
      "TotalBsmtSF     0.613581\n",
      "1stFlrSF        0.605852\n",
      "FullBath        0.560664\n",
      "TotRmsAbvGrd    0.533723\n",
      "YearBuilt       0.522897\n",
      "YearRemodAdd    0.507101\n",
      "Name: SalePrice, dtype: float64 \n",
      "\n",
      "BsmtFinSF2      -0.011378\n",
      "BsmtHalfBath    -0.016844\n",
      "MiscVal         -0.021190\n",
      "Id              -0.021917\n",
      "LowQualFinSF    -0.025606\n",
      "YrSold          -0.028923\n",
      "OverallCond     -0.077856\n",
      "MSSubClass      -0.084284\n",
      "EnclosedPorch   -0.128578\n",
      "KitchenAbvGr    -0.135907\n",
      "Name: SalePrice, dtype: float64 \n",
      "\n"
     ]
    }
   ],
   "source": [
    "traindata_corr = num_trainData.corr()['SalePrice'][:-1]\n",
    "\n",
    "print (traindata_corr[abs(traindata_corr) > 0].sort_values(ascending=False)[:10], '\\n')\n",
    "print (traindata_corr[abs(traindata_corr) > 0].sort_values(ascending=False)[-10:],'\\n')"
   ]
  },
  {
   "cell_type": "markdown",
   "metadata": {},
   "source": [
    "可以看到，'OverallQual', 'GrLivArea', 'GarageCars', 'GarageArea,' 'TotalBsmtSF', '1stFlrSF', 'FullBath', 'TotRmsAbvGrd', 'YearBuilt', 'YearRemodAdd'，排在前十的、关系系数超过0.5的这些columns，与'SalePrice'有较大的相关性，特别是'OverallQual'和'GrLivArea'。"
   ]
  },
  {
   "cell_type": "code",
   "execution_count": 14,
   "metadata": {
    "scrolled": true
   },
   "outputs": [
    {
     "data": {
      "text/plain": [
       "count      1460.000000\n",
       "mean     180921.195890\n",
       "std       79442.502883\n",
       "min       34900.000000\n",
       "25%      129975.000000\n",
       "50%      163000.000000\n",
       "75%      214000.000000\n",
       "max      755000.000000\n",
       "Name: SalePrice, dtype: float64"
      ]
     },
     "execution_count": 14,
     "metadata": {},
     "output_type": "execute_result"
    }
   ],
   "source": [
    "traindata.SalePrice.describe()"
   ]
  },
  {
   "cell_type": "markdown",
   "metadata": {},
   "source": [
    "`pivot_table()`建立一个数据透视表，`np.median()`返回数组元素的中位数"
   ]
  },
  {
   "cell_type": "code",
   "execution_count": 15,
   "metadata": {
    "collapsed": true
   },
   "outputs": [],
   "source": [
    "quality_pivot = traindata.pivot_table(index='OverallQual',\n",
    "                                  values='SalePrice', aggfunc=np.median)\n",
    "GarageCars_pivot = traindata.pivot_table(index='GarageCars',\n",
    "                                  values='SalePrice', aggfunc=np.median)"
   ]
  },
  {
   "cell_type": "code",
   "execution_count": 16,
   "metadata": {
    "scrolled": false
   },
   "outputs": [
    {
     "data": {
      "image/png": "[encoded data removed]",
      "text/plain": [
       "<matplotlib.figure.Figure at 0xbec1d68>"
      ]
     },
     "metadata": {},
     "output_type": "display_data"
    }
   ],
   "source": [
    "plt.figure()\n",
    "plt.rcParams['figure.figsize'] = (10, 5) #设置图像大小\n",
    "\n",
    "plt.subplot(1,2,1)\n",
    "plt.bar(quality_pivot.index, quality_pivot['SalePrice'], color='blue') #条形图\n",
    "plt.xlabel('Overall Quality')\n",
    "plt.ylabel('Median Sale Price')\n",
    "plt.xticks(rotation=0)\n",
    "\n",
    "plt.subplot(1,2,2)\n",
    "plt.bar(GarageCars_pivot.index, GarageCars_pivot['SalePrice'], color='blue') #条形图\n",
    "plt.xlabel('GarageCars')\n",
    "plt.ylabel('Median Sale Price')\n",
    "plt.xticks(rotation=0)\n",
    "\n",
    "plt.show()  # 展示"
   ]
  },
  {
   "cell_type": "markdown",
   "metadata": {},
   "source": [
    "np.log()会改变目标变量，使用np.log()转换参数"
   ]
  },
  {
   "cell_type": "code",
   "execution_count": 17,
   "metadata": {},
   "outputs": [
    {
     "data": {
      "image/png": "[encoded data removed]",
      "text/plain": [
       "<matplotlib.figure.Figure at 0xc3afe48>"
      ]
     },
     "metadata": {},
     "output_type": "display_data"
    }
   ],
   "source": [
    "plt.style.use(style='ggplot')\n",
    "plt.rcParams['figure.figsize'] = (10, 10) #设置图像大小\n",
    "\n",
    "plt.figure()\n",
    "plt.subplot(2,2,1)\n",
    "plt.hist(traindata.SalePrice, color='blue')\n",
    "plt.xlabel('SalePrice')\n",
    "plt.subplot(2,2,2)\n",
    "plt.hist(np.log(traindata.SalePrice), color='blue')\n",
    "plt.xlabel('log.SalePrice')\n",
    "\n",
    "plt.subplot(2,2,3)\n",
    "plt.hist(traindata.GrLivArea, color='blue')\n",
    "plt.xlabel('GrLivArea')\n",
    "plt.subplot(2,2,4)\n",
    "plt.hist(np.log(traindata.GrLivArea), color='blue')\n",
    "plt.xlabel('log.GrLivArea')\n",
    "\n",
    "plt.show()  # 展示"
   ]
  },
  {
   "cell_type": "code",
   "execution_count": 18,
   "metadata": {
    "scrolled": true
   },
   "outputs": [
    {
     "data": {
      "image/png": "[encoded data removed]",
      "text/plain": [
       "<matplotlib.figure.Figure at 0xc54c5c0>"
      ]
     },
     "metadata": {},
     "output_type": "display_data"
    }
   ],
   "source": [
    "plt.rcParams['figure.figsize'] = (10, 10) #设置图像大小\n",
    "\n",
    "plt.figure()\n",
    "plt.subplot(2,2,1)\n",
    "plt.scatter(x=traindata['GrLivArea'], y=np.log(traindata.SalePrice))\n",
    "plt.xlabel('GrLivArea')\n",
    "plt.subplot(2,2,2)\n",
    "plt.scatter(x=traindata['GarageArea'], y=np.log(traindata.SalePrice))\n",
    "plt.xlabel('GarageArea')\n",
    "\n",
    "plt.subplot(2,2,3)\n",
    "plt.scatter(x=traindata['TotalBsmtSF'], y=np.log(traindata.SalePrice))\n",
    "plt.xlabel('TotalBsmtSF')\n",
    "plt.subplot(2,2,4)\n",
    "plt.scatter(x=traindata['1stFlrSF'], y=np.log(traindata.SalePrice))\n",
    "plt.xlabel('1stFlrSF')\n",
    "\n",
    "plt.show()  # 展示"
   ]
  },
  {
   "cell_type": "markdown",
   "metadata": {},
   "source": [
    "## 除去异常值"
   ]
  },
  {
   "cell_type": "code",
   "execution_count": 19,
   "metadata": {
    "collapsed": true
   },
   "outputs": [],
   "source": [
    "# 降序后，删除'GrLivArea'最大且和'SalePrice'不成正比的两个'Id'\n",
    "#traindata = traindata[traindata['GrLivArea'] < 4000]\n",
    "traindata.sort_values(by='GrLivArea', ascending=False)[:2]\n",
    "#traindata = traindata.drop(traindata[traindata['Id'] == 1299].index)\n",
    "traindata = traindata.drop(traindata[traindata['Id'] == 524].index)"
   ]
  },
  {
   "cell_type": "markdown",
   "metadata": {},
   "source": [
    "## 处理非数字特征"
   ]
  },
  {
   "cell_type": "code",
   "execution_count": 20,
   "metadata": {
    "collapsed": true
   },
   "outputs": [],
   "source": [
    "# exclude-排除，这里选择所有的非数字特征\n",
    "categoricals = traindata.select_dtypes(exclude=[np.number])"
   ]
  },
  {
   "cell_type": "markdown",
   "metadata": {},
   "source": [
    "该count列表示非空观测unique值的计数，同时计数唯一值的数量。top是最常见的值，最高值的频率显示为freq。"
   ]
  },
  {
   "cell_type": "code",
   "execution_count": 21,
   "metadata": {
    "scrolled": false
   },
   "outputs": [
    {
     "data": {
      "text/html": [
       "<div>\n",
       "<style>\n",
       "    .dataframe thead tr:only-child th {\n",
       "        text-align: right;\n",
       "    }\n",
       "\n",
       "    .dataframe thead th {\n",
       "        text-align: left;\n",
       "    }\n",
       "\n",
       "    .dataframe tbody tr th {\n",
       "        vertical-align: top;\n",
       "    }\n",
       "</style>\n",
       "<table border=\"1\" class=\"dataframe\">\n",
       "  <thead>\n",
       "    <tr style=\"text-align: right;\">\n",
       "      <th></th>\n",
       "      <th>MSZoning</th>\n",
       "      <th>Street</th>\n",
       "      <th>LotShape</th>\n",
       "      <th>LandContour</th>\n",
       "      <th>Utilities</th>\n",
       "      <th>LotConfig</th>\n",
       "      <th>LandSlope</th>\n",
       "      <th>Neighborhood</th>\n",
       "      <th>Condition1</th>\n",
       "      <th>Condition2</th>\n",
       "      <th>BldgType</th>\n",
       "      <th>HouseStyle</th>\n",
       "      <th>RoofStyle</th>\n",
       "      <th>RoofMatl</th>\n",
       "      <th>Exterior1st</th>\n",
       "      <th>Exterior2nd</th>\n",
       "      <th>MasVnrType</th>\n",
       "      <th>ExterQual</th>\n",
       "      <th>ExterCond</th>\n",
       "    </tr>\n",
       "  </thead>\n",
       "  <tbody>\n",
       "    <tr>\n",
       "      <th>count</th>\n",
       "      <td>1459</td>\n",
       "      <td>1459</td>\n",
       "      <td>1459</td>\n",
       "      <td>1459</td>\n",
       "      <td>1459</td>\n",
       "      <td>1459</td>\n",
       "      <td>1459</td>\n",
       "      <td>1459</td>\n",
       "      <td>1459</td>\n",
       "      <td>1459</td>\n",
       "      <td>1459</td>\n",
       "      <td>1459</td>\n",
       "      <td>1459</td>\n",
       "      <td>1459</td>\n",
       "      <td>1459</td>\n",
       "      <td>1459</td>\n",
       "      <td>1451</td>\n",
       "      <td>1459</td>\n",
       "      <td>1459</td>\n",
       "    </tr>\n",
       "    <tr>\n",
       "      <th>unique</th>\n",
       "      <td>5</td>\n",
       "      <td>2</td>\n",
       "      <td>4</td>\n",
       "      <td>4</td>\n",
       "      <td>2</td>\n",
       "      <td>5</td>\n",
       "      <td>3</td>\n",
       "      <td>25</td>\n",
       "      <td>9</td>\n",
       "      <td>8</td>\n",
       "      <td>5</td>\n",
       "      <td>8</td>\n",
       "      <td>6</td>\n",
       "      <td>8</td>\n",
       "      <td>15</td>\n",
       "      <td>16</td>\n",
       "      <td>4</td>\n",
       "      <td>4</td>\n",
       "      <td>5</td>\n",
       "    </tr>\n",
       "    <tr>\n",
       "      <th>top</th>\n",
       "      <td>RL</td>\n",
       "      <td>Pave</td>\n",
       "      <td>Reg</td>\n",
       "      <td>Lvl</td>\n",
       "      <td>AllPub</td>\n",
       "      <td>Inside</td>\n",
       "      <td>Gtl</td>\n",
       "      <td>NAmes</td>\n",
       "      <td>Norm</td>\n",
       "      <td>Norm</td>\n",
       "      <td>1Fam</td>\n",
       "      <td>1Story</td>\n",
       "      <td>Gable</td>\n",
       "      <td>CompShg</td>\n",
       "      <td>VinylSd</td>\n",
       "      <td>VinylSd</td>\n",
       "      <td>None</td>\n",
       "      <td>TA</td>\n",
       "      <td>TA</td>\n",
       "    </tr>\n",
       "    <tr>\n",
       "      <th>freq</th>\n",
       "      <td>1150</td>\n",
       "      <td>1453</td>\n",
       "      <td>925</td>\n",
       "      <td>1311</td>\n",
       "      <td>1458</td>\n",
       "      <td>1051</td>\n",
       "      <td>1381</td>\n",
       "      <td>225</td>\n",
       "      <td>1260</td>\n",
       "      <td>1445</td>\n",
       "      <td>1219</td>\n",
       "      <td>726</td>\n",
       "      <td>1141</td>\n",
       "      <td>1433</td>\n",
       "      <td>515</td>\n",
       "      <td>504</td>\n",
       "      <td>864</td>\n",
       "      <td>906</td>\n",
       "      <td>1281</td>\n",
       "    </tr>\n",
       "  </tbody>\n",
       "</table>\n",
       "</div>"
      ],
      "text/plain": [
       "       MSZoning Street LotShape LandContour Utilities LotConfig LandSlope  \\\n",
       "count      1459   1459     1459        1459      1459      1459      1459   \n",
       "unique        5      2        4           4         2         5         3   \n",
       "top          RL   Pave      Reg         Lvl    AllPub    Inside       Gtl   \n",
       "freq       1150   1453      925        1311      1458      1051      1381   \n",
       "\n",
       "       Neighborhood Condition1 Condition2 BldgType HouseStyle RoofStyle  \\\n",
       "count          1459       1459       1459     1459       1459      1459   \n",
       "unique           25          9          8        5          8         6   \n",
       "top           NAmes       Norm       Norm     1Fam     1Story     Gable   \n",
       "freq            225       1260       1445     1219        726      1141   \n",
       "\n",
       "       RoofMatl Exterior1st Exterior2nd MasVnrType ExterQual ExterCond  \n",
       "count      1459        1459        1459       1451      1459      1459  \n",
       "unique        8          15          16          4         4         5  \n",
       "top     CompShg     VinylSd     VinylSd       None        TA        TA  \n",
       "freq       1433         515         504        864       906      1281  "
      ]
     },
     "execution_count": 21,
     "metadata": {},
     "output_type": "execute_result"
    }
   ],
   "source": [
    "categoricals1 = categoricals.iloc[:,0:19]\n",
    "categoricals1.describe()"
   ]
  },
  {
   "cell_type": "code",
   "execution_count": 22,
   "metadata": {
    "scrolled": true
   },
   "outputs": [
    {
     "data": {
      "text/html": [
       "<div>\n",
       "<style>\n",
       "    .dataframe thead tr:only-child th {\n",
       "        text-align: right;\n",
       "    }\n",
       "\n",
       "    .dataframe thead th {\n",
       "        text-align: left;\n",
       "    }\n",
       "\n",
       "    .dataframe tbody tr th {\n",
       "        vertical-align: top;\n",
       "    }\n",
       "</style>\n",
       "<table border=\"1\" class=\"dataframe\">\n",
       "  <thead>\n",
       "    <tr style=\"text-align: right;\">\n",
       "      <th></th>\n",
       "      <th>Foundation</th>\n",
       "      <th>BsmtQual</th>\n",
       "      <th>BsmtCond</th>\n",
       "      <th>BsmtExposure</th>\n",
       "      <th>BsmtFinType1</th>\n",
       "      <th>BsmtFinType2</th>\n",
       "      <th>Heating</th>\n",
       "      <th>HeatingQC</th>\n",
       "      <th>CentralAir</th>\n",
       "      <th>Electrical</th>\n",
       "      <th>KitchenQual</th>\n",
       "      <th>Functional</th>\n",
       "      <th>GarageType</th>\n",
       "      <th>GarageFinish</th>\n",
       "      <th>GarageQual</th>\n",
       "      <th>GarageCond</th>\n",
       "      <th>PavedDrive</th>\n",
       "      <th>SaleType</th>\n",
       "      <th>SaleCondition</th>\n",
       "    </tr>\n",
       "  </thead>\n",
       "  <tbody>\n",
       "    <tr>\n",
       "      <th>count</th>\n",
       "      <td>1459</td>\n",
       "      <td>1422</td>\n",
       "      <td>1422</td>\n",
       "      <td>1421</td>\n",
       "      <td>1422</td>\n",
       "      <td>1421</td>\n",
       "      <td>1459</td>\n",
       "      <td>1459</td>\n",
       "      <td>1459</td>\n",
       "      <td>1458</td>\n",
       "      <td>1459</td>\n",
       "      <td>1459</td>\n",
       "      <td>1378</td>\n",
       "      <td>1378</td>\n",
       "      <td>1378</td>\n",
       "      <td>1378</td>\n",
       "      <td>1459</td>\n",
       "      <td>1459</td>\n",
       "      <td>1459</td>\n",
       "    </tr>\n",
       "    <tr>\n",
       "      <th>unique</th>\n",
       "      <td>6</td>\n",
       "      <td>4</td>\n",
       "      <td>4</td>\n",
       "      <td>4</td>\n",
       "      <td>6</td>\n",
       "      <td>6</td>\n",
       "      <td>6</td>\n",
       "      <td>5</td>\n",
       "      <td>2</td>\n",
       "      <td>5</td>\n",
       "      <td>4</td>\n",
       "      <td>7</td>\n",
       "      <td>6</td>\n",
       "      <td>3</td>\n",
       "      <td>5</td>\n",
       "      <td>5</td>\n",
       "      <td>3</td>\n",
       "      <td>9</td>\n",
       "      <td>6</td>\n",
       "    </tr>\n",
       "    <tr>\n",
       "      <th>top</th>\n",
       "      <td>PConc</td>\n",
       "      <td>TA</td>\n",
       "      <td>TA</td>\n",
       "      <td>No</td>\n",
       "      <td>Unf</td>\n",
       "      <td>Unf</td>\n",
       "      <td>GasA</td>\n",
       "      <td>Ex</td>\n",
       "      <td>Y</td>\n",
       "      <td>SBrkr</td>\n",
       "      <td>TA</td>\n",
       "      <td>Typ</td>\n",
       "      <td>Attchd</td>\n",
       "      <td>Unf</td>\n",
       "      <td>TA</td>\n",
       "      <td>TA</td>\n",
       "      <td>Y</td>\n",
       "      <td>WD</td>\n",
       "      <td>Normal</td>\n",
       "    </tr>\n",
       "    <tr>\n",
       "      <th>freq</th>\n",
       "      <td>646</td>\n",
       "      <td>649</td>\n",
       "      <td>1310</td>\n",
       "      <td>953</td>\n",
       "      <td>430</td>\n",
       "      <td>1255</td>\n",
       "      <td>1427</td>\n",
       "      <td>740</td>\n",
       "      <td>1364</td>\n",
       "      <td>1333</td>\n",
       "      <td>735</td>\n",
       "      <td>1359</td>\n",
       "      <td>870</td>\n",
       "      <td>605</td>\n",
       "      <td>1310</td>\n",
       "      <td>1325</td>\n",
       "      <td>1339</td>\n",
       "      <td>1267</td>\n",
       "      <td>1198</td>\n",
       "    </tr>\n",
       "  </tbody>\n",
       "</table>\n",
       "</div>"
      ],
      "text/plain": [
       "       Foundation BsmtQual BsmtCond BsmtExposure BsmtFinType1 BsmtFinType2  \\\n",
       "count        1459     1422     1422         1421         1422         1421   \n",
       "unique          6        4        4            4            6            6   \n",
       "top         PConc       TA       TA           No          Unf          Unf   \n",
       "freq          646      649     1310          953          430         1255   \n",
       "\n",
       "       Heating HeatingQC CentralAir Electrical KitchenQual Functional  \\\n",
       "count     1459      1459       1459       1458        1459       1459   \n",
       "unique       6         5          2          5           4          7   \n",
       "top       GasA        Ex          Y      SBrkr          TA        Typ   \n",
       "freq      1427       740       1364       1333         735       1359   \n",
       "\n",
       "       GarageType GarageFinish GarageQual GarageCond PavedDrive SaleType  \\\n",
       "count        1378         1378       1378       1378       1459     1459   \n",
       "unique          6            3          5          5          3        9   \n",
       "top        Attchd          Unf         TA         TA          Y       WD   \n",
       "freq          870          605       1310       1325       1339     1267   \n",
       "\n",
       "       SaleCondition  \n",
       "count           1459  \n",
       "unique             6  \n",
       "top           Normal  \n",
       "freq            1198  "
      ]
     },
     "execution_count": 22,
     "metadata": {},
     "output_type": "execute_result"
    }
   ],
   "source": [
    "categoricals2 = categoricals.iloc[:,19:]\n",
    "categoricals2.describe()"
   ]
  },
  {
   "cell_type": "markdown",
   "metadata": {},
   "source": [
    "大体可看出\n",
    "* 两类的：\n",
    "Street\n",
    "Utilities\n",
    "CentralAir\n",
    "\n",
    "* 可分为两类的：\n",
    "LandContour\n",
    "LandSlope\n",
    "Condition1\n",
    "Condition2\n",
    "BldgType\n",
    "RoofStyle\n",
    "ExterCond\n",
    "BsmtQual\n",
    "BsmtExposure\n",
    "BsmtFinType2\n",
    "Heating\n",
    "Electrical\n",
    "Functional\n",
    "GarageQual\n",
    "GarageCond\n",
    "PavedDrive\n",
    "SaleType\n",
    "SaleCondition\n",
    "\n",
    "* 多个的：\n",
    "MSZoning\n",
    "LotShape\n",
    "LotConfig\n",
    "Neighborhood\n",
    "HouseStyle\n",
    "ExterQual\n",
    "Foundation\n",
    "BsmtFinType1\n",
    "HeatingQC\n",
    "KitchenQual\n",
    "GarageType\n",
    "GarageFinish"
   ]
  },
  {
   "cell_type": "markdown",
   "metadata": {},
   "source": [
    "对Street、Utilities、CentralAir数据探究"
   ]
  },
  {
   "cell_type": "code",
   "execution_count": 23,
   "metadata": {
    "scrolled": true
   },
   "outputs": [
    {
     "name": "stdout",
     "output_type": "stream",
     "text": [
      "Pave    1453\n",
      "Grvl       6\n",
      "Name: Street, dtype: int64 \n",
      "\n",
      "AllPub    1458\n",
      "NoSeWa       1\n",
      "Name: Utilities, dtype: int64 \n",
      "\n",
      "Y    1364\n",
      "N      95\n",
      "Name: CentralAir, dtype: int64 \n",
      "\n"
     ]
    }
   ],
   "source": [
    "print (traindata.Street.value_counts(), \"\\n\")\n",
    "print (traindata.Utilities.value_counts(), \"\\n\")\n",
    "print (traindata.CentralAir.value_counts(), \"\\n\")"
   ]
  },
  {
   "cell_type": "code",
   "execution_count": 36,
   "metadata": {
    "collapsed": true
   },
   "outputs": [],
   "source": [
    "traindata['street'] = pd.get_dummies(traindata.Street, drop_first=True)\n",
    "testdata['street'] = pd.get_dummies(traindata.Street, drop_first=True)\n",
    "print ('Encoded: \\n') \n",
    "print (traindata.street.value_counts())\n",
    "\n",
    "traindata['Utilities'] = pd.get_dummies(traindata.Utilities, drop_first=True)\n",
    "testdata['Utilities'] = pd.get_dummies(traindata.Utilities, drop_first=True)\n",
    "print ('Encoded: \\n') \n",
    "print (traindata.Utilities.value_counts())\n",
    "\n",
    "traindata['CentralAir'] = pd.get_dummies(traindata.CentralAir, drop_first=True)\n",
    "testdata['CentralAir'] = pd.get_dummies(traindata.CentralAir, drop_first=True)\n",
    "print ('Encoded: \\n') \n",
    "print (traindata.CentralAir.value_counts())"
   ]
  },
  {
   "cell_type": "markdown",
   "metadata": {},
   "source": [
    "使用one-hot编码将数据转换为布尔列"
   ]
  },
  {
   "cell_type": "markdown",
   "metadata": {},
   "source": [
    "SaleCondition - 出售条件  表格显示其中间销售价格"
   ]
  },
  {
   "cell_type": "code",
   "execution_count": 24,
   "metadata": {
    "collapsed": true
   },
   "outputs": [],
   "source": [
    "# pivot_table表查看数据\n",
    "condition_pivot = traindata.pivot_table(index='SaleCondition',\n",
    "                                    values='SalePrice', aggfunc=np.median)"
   ]
  },
  {
   "cell_type": "code",
   "execution_count": 25,
   "metadata": {},
   "outputs": [
    {
     "data": {
      "text/plain": [
       "<matplotlib.figure.Figure at 0xc6bc240>"
      ]
     },
     "metadata": {},
     "output_type": "display_data"
    },
    {
     "data": {
      "image/png": "[encoded data removed]",
      "text/plain": [
       "<matplotlib.figure.Figure at 0xc703fd0>"
      ]
     },
     "metadata": {},
     "output_type": "display_data"
    }
   ],
   "source": [
    "plt.figure()\n",
    "plt.rcParams['figure.figsize'] = (8, 5) \n",
    "condition_pivot.plot(kind='bar', color='blue')\n",
    "plt.xlabel('Sale Condition')\n",
    "plt.ylabel('Median Sale Price')\n",
    "plt.xticks(rotation=0)\n",
    "plt.show()"
   ]
  },
  {
   "cell_type": "markdown",
   "metadata": {},
   "source": [
    "Partial中间销售价格明显高于其他中间销售价格。我们会将其编码为一项新功能。\n",
    "\n",
    "我们选择所有SaleCondition等于Patrial并分配值的房屋1，否则（other）分配0"
   ]
  },
  {
   "cell_type": "code",
   "execution_count": 38,
   "metadata": {
    "scrolled": true
   },
   "outputs": [
    {
     "data": {
      "image/png": "[encoded data removed]",
      "text/plain": [
       "<matplotlib.figure.Figure at 0xcbc05f8>"
      ]
     },
     "metadata": {},
     "output_type": "display_data"
    }
   ],
   "source": [
    "# 选择所有SaleCondition等于Patrial并分配值的房屋1，否则（other）分配0\n",
    "def encode(x): return 1 if x == 'Partial' else 0\n",
    "traindata['condition'] = traindata.SaleCondition.apply(encode)\n",
    "testdata['condition'] = testdata.SaleCondition.apply(encode)\n",
    "\n",
    "condition_pivot = traindata.pivot_table(index='condition', values='SalePrice', aggfunc=np.median)\n",
    "plt.rcParams['figure.figsize'] = (8, 5) \n",
    "condition_pivot.plot(kind='bar', color='blue')\n",
    "plt.xlabel('Encoded Sale Condition')\n",
    "plt.ylabel('Median Sale Price')\n",
    "plt.xticks(rotation=0)\n",
    "\n",
    "plt.show()"
   ]
  },
  {
   "cell_type": "code",
   "execution_count": 40,
   "metadata": {
    "scrolled": true
   },
   "outputs": [
    {
     "name": "stdout",
     "output_type": "stream",
     "text": [
      "street        0.041034\n",
      "Utilities    -0.014313\n",
      "CentralAir    0.251326\n",
      "condition     0.353247\n",
      "Name: SalePrice, dtype: float64\n"
     ]
    }
   ],
   "source": [
    "no_num = traindata.filter(['street','Utilities','CentralAir','condition','SalePrice'], axis=1)\n",
    "traindata_corr1 = no_num.corr()['SalePrice'][:-1]\n",
    "print (traindata_corr1)"
   ]
  },
  {
   "cell_type": "markdown",
   "metadata": {},
   "source": [
    "## 筛选出所需要的特征"
   ]
  },
  {
   "cell_type": "code",
   "execution_count": 27,
   "metadata": {},
   "outputs": [
    {
     "data": {
      "text/plain": [
       "0    548\n",
       "1    460\n",
       "2    608\n",
       "3    642\n",
       "4    836\n",
       "Name: GarageArea, dtype: int64"
      ]
     },
     "execution_count": 27,
     "metadata": {},
     "output_type": "execute_result"
    }
   ],
   "source": [
    "traindata['GarageArea'][:5]"
   ]
  },
  {
   "cell_type": "code",
   "execution_count": 28,
   "metadata": {},
   "outputs": [
    {
     "data": {
      "text/plain": [
       "0    730.0\n",
       "1    312.0\n",
       "2    482.0\n",
       "3    470.0\n",
       "4    506.0\n",
       "Name: GarageArea, dtype: float64"
      ]
     },
     "execution_count": 28,
     "metadata": {},
     "output_type": "execute_result"
    }
   ],
   "source": [
    "testdata['GarageArea'][:5]"
   ]
  },
  {
   "cell_type": "code",
   "execution_count": 29,
   "metadata": {},
   "outputs": [
    {
     "name": "stdout",
     "output_type": "stream",
     "text": [
      "(1459, 11)\n",
      "(1459, 10)\n"
     ]
    }
   ],
   "source": [
    "finaldata = traindata.filter(['OverallQual','GrLivArea','GarageArea','TotalBsmtSF', 'YearBuilt',\n",
    "                              'enc_street','enc_Utilities','enc_CentralAir','enc_condition',\n",
    "                              'MSSubClass', 'KitchenAbvGr', 'OverallCond',  'EnclosedPorch',  \n",
    "                                 'SalePrice'], axis=1)\n",
    "finaltest = testdata.filter(['OverallQual','GrLivArea','GarageArea','TotalBsmtSF', 'YearBuilt',\n",
    "                              'enc_street','enc_Utilities','enc_CentralAir','enc_condition',\n",
    "                              'MSSubClass', 'KitchenAbvGr', 'OverallCond',  'EnclosedPorch'], axis=1)\n",
    "print(finaldata.shape)\n",
    "print(finaltest.shape)"
   ]
  },
  {
   "cell_type": "markdown",
   "metadata": {},
   "source": [
    "其中选择了'OverallQual', 'MSSubClass'这两个呈负相关的columns，意思就是一个变量减少，则另一个变量增加。所以是有一定特征的。添加到数据集里会有助于预测结果。"
   ]
  },
  {
   "cell_type": "markdown",
   "metadata": {},
   "source": [
    "## 处理空值\n",
    "* isnull()函数判断是否为空\n",
    "* sum()函数计数"
   ]
  },
  {
   "cell_type": "code",
   "execution_count": 30,
   "metadata": {},
   "outputs": [
    {
     "data": {
      "text/plain": [
       "2"
      ]
     },
     "execution_count": 30,
     "metadata": {},
     "output_type": "execute_result"
    }
   ],
   "source": [
    "#检查所有的列是否有0个空值。\n",
    "sum(finaltest.isnull().sum() != 0)"
   ]
  },
  {
   "cell_type": "code",
   "execution_count": 31,
   "metadata": {},
   "outputs": [
    {
     "name": "stdout",
     "output_type": "stream",
     "text": [
      "(1459, 10)\n",
      "(1459,)\n",
      "(1459, 10)\n"
     ]
    },
    {
     "name": "stderr",
     "output_type": "stream",
     "text": [
      "D:\\ProgramData\\Anaconda3\\lib\\site-packages\\ipykernel_launcher.py:4: DeprecationWarning: \n",
      ".ix is deprecated. Please use\n",
      ".loc for label based indexing or\n",
      ".iloc for positional indexing\n",
      "\n",
      "See the documentation here:\n",
      "http://pandas.pydata.org/pandas-docs/stable/indexing.html#ix-indexer-is-deprecated\n",
      "  after removing the cwd from sys.path.\n"
     ]
    }
   ],
   "source": [
    "# 创建训练集和测试集\n",
    "xtrain = finaldata.drop(['SalePrice'], axis=1)\n",
    "ytrain = finaldata['SalePrice']\n",
    "xtest = finaltest.ix[:, :13].values\n",
    "print (xtrain.shape)\n",
    "print (ytrain.shape)\n",
    "print (xtest.shape)"
   ]
  }
 ],
 "metadata": {
  "kernelspec": {
   "display_name": "Python 3",
   "language": "python",
   "name": "python3"
  },
  "language_info": {
   "codemirror_mode": {
    "name": "ipython",
    "version": 3
   },
   "file_extension": ".py",
   "mimetype": "text/x-python",
   "name": "python",
   "nbconvert_exporter": "python",
   "pygments_lexer": "ipython3",
   "version": "3.6.2"
  }
 },
 "nbformat": 4,
 "nbformat_minor": 2
}
